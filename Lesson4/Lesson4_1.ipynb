{
 "cells": [
  {
   "cell_type": "code",
   "execution_count": 2,
   "id": "986cdfe3",
   "metadata": {},
   "outputs": [
    {
     "name": "stdout",
     "output_type": "stream",
     "text": [
      "你未成年不可以考證照:8\n"
     ]
    }
   ],
   "source": [
    "age = int(input(\"請輸入年齡:\"))\n",
    "\n",
    "if age >= 18:\n",
    "    print(\"你已成年可以考駕照:\"+str(age))\n",
    "else:\n",
    "    print(\"你未成年不可以考證照:\"+str(age))"
   ]
  },
  {
   "cell_type": "code",
   "execution_count": 12,
   "id": "ef3162fb",
   "metadata": {},
   "outputs": [
    {
     "name": "stdout",
     "output_type": "stream",
     "text": [
      "學生最終分數為:262\n"
     ]
    }
   ],
   "source": [
    "# 學生總分為300\n",
    "#有些學生可以加分5%\n",
    "#如果加分超過300分，則以300分計算\n",
    "\n",
    "score = int(input(\"請輸入學生總分:\"))\n",
    "is_add = input(\"是否可以加分(y/n):\")\n",
    "\n",
    "if is_add == 'y': #如果可以加分，則加5%\n",
    "    score = score * 1.05\n",
    "    if score > 300: #如果加分超過300分，則以300分計算\n",
    "        score = 300\n",
    "\n",
    "#print(\"學生最終分數為:\"+str(score))\n",
    "#列出四捨五入最終分數\n",
    "print(\"學生最終分數為:\"+str(round(score)))\n",
    "\n",
    "\n"
   ]
  },
  {
   "cell_type": "code",
   "execution_count": null,
   "id": "164f54c7",
   "metadata": {},
   "outputs": [],
   "source": []
  },
  {
   "cell_type": "code",
   "execution_count": 21,
   "id": "ba736d9b",
   "metadata": {},
   "outputs": [
    {
     "name": "stdout",
     "output_type": "stream",
     "text": [
      "輸入錯誤，請輸入數字金額\n"
     ]
    }
   ],
   "source": [
    "try:\n",
    "    money = int(input(\"請輸入購物金額:\"))\n",
    "    print(\"購物金額為:\"+str(money))\n",
    "except:\n",
    "    print(\"輸入錯誤，請輸入數字金額\")\n",
    "\n",
    "\n"
   ]
  },
  {
   "cell_type": "code",
   "execution_count": 25,
   "id": "104a142a",
   "metadata": {},
   "outputs": [
    {
     "name": "stdout",
     "output_type": "stream",
     "text": [
      "輸入錯誤，請輸入數字金額\n",
      "程式結束\n"
     ]
    }
   ],
   "source": [
    "try:\n",
    "    money = int(input(\"請輸入購物金額:\"))\n",
    "    raise Exception(\"測試錯誤\")\n",
    "    print(\"購物金額為:\" + str(money))\n",
    "except ValueError:\n",
    "    print(\"輸入錯誤，請輸入數字金額\")\n",
    "except:\n",
    "    print(\"程式發生其他錯誤，請洽系統管理員\")\n",
    "\n",
    "print(\"程式結束\") \n",
    "\n",
    "\n"
   ]
  },
  {
   "cell_type": "code",
   "execution_count": 27,
   "id": "e97d183d",
   "metadata": {},
   "outputs": [
    {
     "name": "stdout",
     "output_type": "stream",
     "text": [
      "學生最終分數為:100\n",
      "程式結束\n"
     ]
    }
   ],
   "source": [
    "# 學生總分為300\n",
    "#有些學生可以加分5%\n",
    "#如果加分超過300分，則以300分計算\n",
    "\n",
    "try:\n",
    "    score = int(input(\"請輸入學生總分:\"))\n",
    "    is_add = input(\"是否可以加分(y/n):\")\n",
    "\n",
    "    if is_add == 'y': #如果可以加分，則加5%\n",
    "        score = score * 1.05\n",
    "        if score > 300: #如果加分超過300分，則以300分計算\n",
    "            score = 300\n",
    "\n",
    "    #print(\"學生最終分數為:\"+str(score))\n",
    "    #列出四捨五入最終分數\n",
    "    print(\"學生最終分數為:\"+str(round(score)))\n",
    "except ValueError:\n",
    "    print(\"輸入錯誤，請輸入數字分數\")\n",
    "except:\n",
    "    print(\"程式發生其他錯誤，請洽系統管理員\")\n",
    "print(\"程式結束\")"
   ]
  }
 ],
 "metadata": {
  "kernelspec": {
   "display_name": "base",
   "language": "python",
   "name": "python3"
  },
  "language_info": {
   "codemirror_mode": {
    "name": "ipython",
    "version": 3
   },
   "file_extension": ".py",
   "mimetype": "text/x-python",
   "name": "python",
   "nbconvert_exporter": "python",
   "pygments_lexer": "ipython3",
   "version": "3.13.2"
  }
 },
 "nbformat": 4,
 "nbformat_minor": 5
}
