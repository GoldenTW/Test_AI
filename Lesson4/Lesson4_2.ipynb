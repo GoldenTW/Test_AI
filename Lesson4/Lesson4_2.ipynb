{
 "cells": [
  {
   "cell_type": "code",
   "execution_count": 4,
   "id": "c3175acd",
   "metadata": {},
   "outputs": [
    {
     "name": "stdout",
     "output_type": "stream",
     "text": [
      "不及格\n"
     ]
    }
   ],
   "source": [
    "scores = int(input(\"輸入學生分數(0-100):\"))\n",
    "\n",
    "if scores >= 60:\n",
    "    print(\"及格\")\n",
    "else:\n",
    "    print(\"不及格\")\n"
   ]
  },
  {
   "cell_type": "code",
   "execution_count": 8,
   "id": "64913bfd",
   "metadata": {},
   "outputs": [
    {
     "name": "stdout",
     "output_type": "stream",
     "text": [
      "優等\n"
     ]
    }
   ],
   "source": [
    "scores = int(input(\"輸入學生分數(0-100):\"))\n",
    "\n",
    "if scores >= 90:\n",
    "    print(\"優等\")\n",
    "elif scores >= 60:\n",
    "    print(\"及格\")\n",
    "else:\n",
    "    print(\"不及格\")\n",
    "    "
   ]
  },
  {
   "cell_type": "code",
   "execution_count": 16,
   "id": "59c88612",
   "metadata": {},
   "outputs": [
    {
     "name": "stdout",
     "output_type": "stream",
     "text": [
      "BMI值為:24.0\n",
      "體重正常\n"
     ]
    }
   ],
   "source": [
    "#計算BMI值\n",
    "height = float(input(\"請輸入身高(公分):\"))\n",
    "\n",
    "weight = float(input(\"請輸入體重(公斤):\"))\n",
    "bmi = weight / ((height/100) ** 2)\n",
    "print(f\"BMI值為:{round(bmi,2)}\")\n",
    "\n",
    "#分別顯示體重過輕、體重正常、體重過重、肥胖\n",
    "if bmi < 18.5:\n",
    "    print(\"體重過輕\")\n",
    "elif bmi >= 18.5 and bmi < 24:\n",
    "    print(\"體重正常\")\n",
    "elif bmi >= 24 and bmi < 27:\n",
    "    print(\"體重過重\")\n",
    "else:\n",
    "    print(\"肥胖\")   \n",
    "    "
   ]
  }
 ],
 "metadata": {
  "kernelspec": {
   "display_name": "base",
   "language": "python",
   "name": "python3"
  },
  "language_info": {
   "codemirror_mode": {
    "name": "ipython",
    "version": 3
   },
   "file_extension": ".py",
   "mimetype": "text/x-python",
   "name": "python",
   "nbconvert_exporter": "python",
   "pygments_lexer": "ipython3",
   "version": "3.13.2"
  }
 },
 "nbformat": 4,
 "nbformat_minor": 5
}
