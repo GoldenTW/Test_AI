{
 "cells": [
  {
   "cell_type": "code",
   "execution_count": 3,
   "id": "1ac8a2af",
   "metadata": {},
   "outputs": [
    {
     "name": "stdout",
     "output_type": "stream",
     "text": [
      "獎金為: 500元\n"
     ]
    }
   ],
   "source": [
    "# 國文分數和數學分數如果同時100分獎金1000元\n",
    "# 如果一科100分獎金500元\n",
    "# 如果兩科都沒有100分則沒有獎金\n",
    "\n",
    "chinese_score = int(input(\"請輸入國文分數: \"))\n",
    "math_score = int(input(\"請輸入數學分數: \"))\n",
    "\n",
    "bonus = 0  \n",
    "if chinese_score == 100 and math_score == 100:\n",
    "    bonus=1000\n",
    "elif chinese_score == 100 or math_score == 100:\n",
    "    bonus=500 \n",
    "\n",
    "print(f\"獎金為: {bonus}元\")\n"
   ]
  }
 ],
 "metadata": {
  "kernelspec": {
   "display_name": "base",
   "language": "python",
   "name": "python3"
  },
  "language_info": {
   "codemirror_mode": {
    "name": "ipython",
    "version": 3
   },
   "file_extension": ".py",
   "mimetype": "text/x-python",
   "name": "python",
   "nbconvert_exporter": "python",
   "pygments_lexer": "ipython3",
   "version": "3.13.2"
  }
 },
 "nbformat": 4,
 "nbformat_minor": 5
}
