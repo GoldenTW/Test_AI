{
 "cells": [
  {
   "cell_type": "markdown",
   "id": "463a4a72",
   "metadata": {},
   "source": [
    "## 這是次標題\n",
    "### 這次次次標題\n",
    "\n",
    "- 這是項目符號\n",
    "- 這是項目符號\n",
    "\n",
    "- 這是項目編號\n",
    "- 這是項目編號\n",
    "\n",
    "ˋˋˋpython\n",
    "print(\"Hello! World!\")\n",
    "ˋˋˋ"
   ]
  },
  {
   "cell_type": "markdown",
   "id": "67e3ebe4",
   "metadata": {},
   "source": []
  },
  {
   "cell_type": "code",
   "execution_count": 11,
   "id": "78d7edac",
   "metadata": {},
   "outputs": [
    {
     "name": "stdout",
     "output_type": "stream",
     "text": [
      "我的姓名:Golden\n",
      "====================\n"
     ]
    }
   ],
   "source": [
    "# 字串可以使用數學運算子 ＊,+\n",
    "\n",
    "print(\"我的姓名:\" + \"Golden\")\n",
    "\n",
    "print(\"==\"  * 10)"
   ]
  },
  {
   "cell_type": "code",
   "execution_count": 14,
   "id": "8cc5dbab",
   "metadata": {},
   "outputs": [
    {
     "name": "stdout",
     "output_type": "stream",
     "text": [
      "我的個人資料:\n",
      "姓名:\tGolden\n",
      "年齡:\t18\n"
     ]
    }
   ],
   "source": [
    "# 字串的特殊符號\n",
    "# \\n 換行\n",
    "# \\t 跳格\n",
    "\n",
    "print(\"我的個人資料:\\n姓名:\\tGolden\\n年齡:\\t18\")"
   ]
  },
  {
   "cell_type": "code",
   "execution_count": 16,
   "id": "e704681b",
   "metadata": {},
   "outputs": [
    {
     "name": "stdout",
     "output_type": "stream",
     "text": [
      "我的個人資料:\n",
      "姓名:\tGolden\n",
      "年齡:\t18\n"
     ]
    }
   ],
   "source": [
    "# 多行文字\n",
    "\n",
    "info = '''我的個人資料:\n",
    "姓名:\tGolden\n",
    "年齡:\t18'''\n",
    "\n",
    "print(info)\n"
   ]
  },
  {
   "cell_type": "code",
   "execution_count": 31,
   "id": "09a63cee",
   "metadata": {},
   "outputs": [
    {
     "name": "stdout",
     "output_type": "stream",
     "text": [
      "我有 10 顆水果\n",
      "其中蘋果有 7 顆\n",
      "剩下的水果有 3 顆\n",
      "\n",
      "我有 10 顆水果\n",
      "其中蘋果有 7 顆\n",
      "剩下的水果有 3 顆\n"
     ]
    }
   ],
   "source": [
    "# 字串和數值變數整合\n",
    "\n",
    "fruints = 10\n",
    "apple = 7\n",
    "balance = 3\n",
    "\n",
    "result = \"\"\n",
    "\n",
    "result += \"我有 \" + str(fruints) + \" 顆水果\\n\"\n",
    "result += \"其中蘋果有 \" + str(apple) + \" 顆\\n\"\n",
    "result += \"剩下的水果有 \" + str(balance) + \" 顆\\n\"\n",
    "\n",
    "print (result)\n",
    "\n",
    "# 使用 f-string 整合字串和數值變數 (Python 3.6 以上版本)\n",
    "\n",
    "result_f = f\"我有 {fruints} 顆水果\\n其中蘋果有 {apple} 顆\\n剩下的水果有 {balance} 顆\"\n",
    "\n",
    "print(result_f)"
   ]
  }
 ],
 "metadata": {
  "kernelspec": {
   "display_name": "base",
   "language": "python",
   "name": "python3"
  },
  "language_info": {
   "codemirror_mode": {
    "name": "ipython",
    "version": 3
   },
   "file_extension": ".py",
   "mimetype": "text/x-python",
   "name": "python",
   "nbconvert_exporter": "python",
   "pygments_lexer": "ipython3",
   "version": "3.13.2"
  }
 },
 "nbformat": 4,
 "nbformat_minor": 5
}
