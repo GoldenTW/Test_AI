{
 "cells": [
  {
   "cell_type": "code",
   "execution_count": 1,
   "id": "30cf304f",
   "metadata": {},
   "outputs": [
    {
     "name": "stdout",
     "output_type": "stream",
     "text": [
      "Hello! World.\n"
     ]
    }
   ],
   "source": [
    "print(\"Hello! World.\")"
   ]
  },
  {
   "cell_type": "code",
   "execution_count": 6,
   "id": "cc499f1c",
   "metadata": {},
   "outputs": [
    {
     "name": "stdout",
     "output_type": "stream",
     "text": [
      "三角形的斜邊長度為: 5.830951894845301\n"
     ]
    }
   ],
   "source": [
    "#三角形的鄰邊\n",
    "#三角形的對邊\n",
    "#計算三角形的斜邊長度\n",
    "\n",
    "import math\n",
    "\n",
    "side = int(input(\"輸入三角形的鄰邊\"))\n",
    "another_side = int(input(\"輸入三角形的對邊\"))\n",
    "\n",
    "hypotenuse = math.sqrt(side**2 + another_side**2)\n",
    "print(\"三角形的斜邊長度為:\", hypotenuse)\n",
    "\n"
   ]
  },
  {
   "cell_type": "code",
   "execution_count": null,
   "id": "0aed742e",
   "metadata": {},
   "outputs": [],
   "source": []
  }
 ],
 "metadata": {
  "kernelspec": {
   "display_name": "base",
   "language": "python",
   "name": "python3"
  },
  "language_info": {
   "codemirror_mode": {
    "name": "ipython",
    "version": 3
   },
   "file_extension": ".py",
   "mimetype": "text/x-python",
   "name": "python",
   "nbconvert_exporter": "python",
   "pygments_lexer": "ipython3",
   "version": "3.13.2"
  }
 },
 "nbformat": 4,
 "nbformat_minor": 5
}
