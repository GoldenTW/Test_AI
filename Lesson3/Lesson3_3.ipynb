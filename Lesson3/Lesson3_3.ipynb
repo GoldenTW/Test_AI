{
 "cells": [
  {
   "cell_type": "code",
   "execution_count": 4,
   "id": "1c83acc6",
   "metadata": {},
   "outputs": [
    {
     "name": "stdout",
     "output_type": "stream",
     "text": [
      "你未成年:6\n"
     ]
    }
   ],
   "source": [
    "#流程控制\n",
    "\n",
    "age = int(input(\"請輸入年齡:\"))\n",
    "\n",
    "if age >= 18:\n",
    "    print(\"你已成年:\"+str(age))\n",
    "else:\n",
    "    print(\"你未成年:\"+str(age))\n",
    "\n"
   ]
  },
  {
   "cell_type": "code",
   "execution_count": null,
   "id": "da259201",
   "metadata": {},
   "outputs": [],
   "source": [
    "\n",
    "\n"
   ]
  }
 ],
 "metadata": {
  "kernelspec": {
   "display_name": "base",
   "language": "python",
   "name": "python3"
  },
  "language_info": {
   "codemirror_mode": {
    "name": "ipython",
    "version": 3
   },
   "file_extension": ".py",
   "mimetype": "text/x-python",
   "name": "python",
   "nbconvert_exporter": "python",
   "pygments_lexer": "ipython3",
   "version": "3.13.2"
  }
 },
 "nbformat": 4,
 "nbformat_minor": 5
}
